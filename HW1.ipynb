{
  "nbformat": 4,
  "nbformat_minor": 0,
  "metadata": {
    "kernelspec": {
      "name": "python3",
      "display_name": "Python 3"
    },
    "language_info": {
      "codemirror_mode": {
        "name": "ipython",
        "version": 3
      },
      "file_extension": ".py",
      "mimetype": "text/x-python",
      "name": "python",
      "nbconvert_exporter": "python",
      "pygments_lexer": "ipython3",
      "version": "3.6.9"
    },
    "colab": {
      "name": "CS376 hw1.ipynb",
      "provenance": [],
      "collapsed_sections": [],
      "toc_visible": true
    },
    "accelerator": "GPU"
  },
  "cells": [
    {
      "cell_type": "markdown",
      "metadata": {
        "id": "igbuBG-Ztcgv",
        "colab_type": "text"
      },
      "source": [
        "# [CS376] Homework 1. Linear Regression\n",
        "\n",
        "- TA : Seokin Seo (siseo@ai.kaist.ac.kr), Youngsoo Jang (ysjang@ai.kaist.ac.kr)\n",
        "- Due Date : 27th Nov, 23:59 (**Any late submissions will not be accepted.**)\n",
        "- Office Hour : E3-1 2443, Tues 18:30~21:30 \n",
        "- Skeleton codes for this homework are based on tutorial code for textbook written by Marc Deisenroth. \n",
        "- If you're not familar with Google colab or Jupyter notebook, contact TAs in e-mail or come TA office hour on tuesday to get our help.\n",
        "\n",
        "\n"
      ]
    },
    {
      "cell_type": "markdown",
      "metadata": {
        "id": "CQm14EiholMA",
        "colab_type": "text"
      },
      "source": [
        "## README\n",
        "\n",
        "This notebook file is *incomplete* at the first time, so you should implement some code cells for this homework.\n",
        "\n",
        "In addition, you should write answers for given questions.\n",
        "\n",
        "In HW1, you should submit following file:\n",
        "- `hw1.ipynb`: a **completed** version of this IPython notebook. \n",
        "  - You should **implement total 17 python code cells (which are marked as TODO)** and **write total 8 answers** for given questions. \n",
        "  - Every code cell should be working and leave outputs when you submit HW.\n",
        "  - **Do NOT clear** your outputs (ex. plots, outputs, etc.).  \n",
        "\n",
        "After finishing the homework, please submit this file to **Homework 1 section in KLMS**.\n",
        "\n",
        "\n",
        "\n",
        "### Instructions\n",
        "- First of all, you should copy the original Colab notebook into your Google drive.\n",
        "  - Sign in Google.\n",
        "  - Click `File` in the left top on menu and select `Save a copy in Drive..`.\n",
        "- Then you can edit your copied notebook in Google Colab!\n",
        "  - Fill in the `TODO` marked part to run appropriately. \n",
        "  - Each code cell will be executed when you click the play button left side of the cell (or press `Ctrl+Enter`).\n",
        "- Download your copied notebook file (`.ipynb` file) to your local and rename it as `hw1.ipynb`.\n",
        "- Upload the file (`hw1.ipynb`) to KLMS Homework 1 section.\n",
        "\n",
        "**[IMPORTANT]**\n",
        "\n",
        "Please submit the notebook file (without compressing) with the name like below:\n",
        "\n",
        "HW1_StudentID.ipynb\n",
        "\n",
        "ex) HW1_20191234.ipynb\n",
        "\n",
        "\n",
        "### Q&A Policies\n",
        "- If you think your question is important for every student, make your question about HW as a comment on the code cell block in [the original notebook](https://colab.research.google.com/drive/1Ye7fnZ3PZl2REidUhWT0aNWGDYzEPVJb), not your copy.\n",
        "- If you want to ask some questions about your code, contact TAs in e-mail or come TA office hour.\n",
        "\n",
        "\n",
        "\n",
        "---\n",
        "\n",
        "\n"
      ]
    },
    {
      "cell_type": "markdown",
      "metadata": {
        "id": "_PMjckF7tcgx",
        "colab_type": "text"
      },
      "source": [
        "## 0. Prerequisites\n",
        "\n",
        "The purpose of this notebook is to practice for implementing some linear algebra (equations provided) and to explore some properties of linear regression.\n",
        "\n",
        "You can use following packages in this HW:"
      ]
    },
    {
      "cell_type": "code",
      "metadata": {
        "id": "3axez2v9tcgy",
        "colab_type": "code",
        "colab": {}
      },
      "source": [
        "import numpy as np\n",
        "import scipy.linalg\n",
        "import matplotlib.pyplot as plt\n",
        "%matplotlib inline\n",
        "import functools "
      ],
      "execution_count": 0,
      "outputs": []
    },
    {
      "cell_type": "markdown",
      "metadata": {
        "id": "AcUg7GtYtcg0",
        "colab_type": "text"
      },
      "source": [
        "We consider a linear regression problem of the form\n",
        "$$\n",
        "y = \\boldsymbol x^T\\boldsymbol\\theta + \\epsilon\\,,\\quad \\epsilon \\sim \\mathcal N(0, \\sigma^2)\n",
        "$$\n",
        "where $\\boldsymbol x\\in\\mathbb{R}^D$ are inputs and $y\\in\\mathbb{R}$ are noisy observations. The parameter vector $\\boldsymbol\\theta\\in\\mathbb{R}^D$ parametrizes the function.\n",
        "\n",
        "We assume we have a training set $(\\boldsymbol x_n, y_n)$, $n=1,\\ldots, N$. We summarize the sets of training inputs in $\\mathcal X = \\{\\boldsymbol x_1, \\ldots, \\boldsymbol x_N\\}$ and corresponding training targets $\\mathcal Y = \\{y_1, \\ldots, y_N\\}$, respectively.\n",
        "\n",
        "In this tutorial, we are interested in finding good parameters $\\boldsymbol\\theta$."
      ]
    },
    {
      "cell_type": "markdown",
      "metadata": {
        "id": "aRIthXnStcg1",
        "colab_type": "text"
      },
      "source": [
        "## 1. Maximum Likelihood\n",
        "We will start with maximum likelihood estimation of the parameters $\\boldsymbol\\theta$. In maximum likelihood estimation, we find the parameters $\\boldsymbol\\theta^{\\mathrm{ML}}$ that maximize the likelihood\n",
        "$$\n",
        "p(\\mathcal Y | \\mathcal X, \\boldsymbol\\theta) = \\prod_{n=1}^N p(y_n | \\boldsymbol x_n, \\boldsymbol\\theta)\\,.\n",
        "$$\n",
        "From the lecture we know that the maximum likelihood estimator is given by\n",
        "$$\n",
        "\\boldsymbol\\theta^{\\text{ML}} = (\\boldsymbol X^T\\boldsymbol X)^{-1}\\boldsymbol X^T\\boldsymbol y\\in\\mathbb{R}^D\\,,\n",
        "$$\n",
        "where \n",
        "$$\n",
        "\\boldsymbol X = [\\boldsymbol x_1, \\ldots, \\boldsymbol x_N]^T\\in\\mathbb{R}^{N\\times D}\\,,\\quad \\boldsymbol y = [y_1, \\ldots, y_N]^T \\in\\mathbb{R}^N\\,.\n",
        "$$"
      ]
    },
    {
      "cell_type": "code",
      "metadata": {
        "id": "K9rN_OpAtcg2",
        "colab_type": "code",
        "colab": {
          "base_uri": "https://localhost:8080/",
          "height": 279
        },
        "outputId": "82b65956-b8cf-4f45-e645-29c23197afcd"
      },
      "source": [
        "# Define training set\n",
        "X = np.array([-3, -1, 0, 1, 3]).reshape(-1,1) # 5x1 vector, N=5, D=1\n",
        "y = np.array([-1.2, -0.7, 0.14, 0.67, 1.67]).reshape(-1,1) # 5x1 vector\n",
        "\n",
        "# Plot the training set\n",
        "plt.figure()\n",
        "plt.plot(X, y, '+', markersize=10)\n",
        "plt.xlabel(\"$x$\")\n",
        "plt.ylabel(\"$y$\");"
      ],
      "execution_count": 237,
      "outputs": [
        {
          "output_type": "display_data",
          "data": {
            "image/png": "[encoded data removed]",
            "text/plain": [
              "<Figure size 432x288 with 1 Axes>"
            ]
          },
          "metadata": {
            "tags": []
          }
        }
      ]
    },
    {
      "cell_type": "markdown",
      "metadata": {
        "id": "KwlXT0Hxtcg5",
        "colab_type": "text"
      },
      "source": [
        "Let us compute the maximum likelihood estimate for a given training set"
      ]
    },
    {
      "cell_type": "markdown",
      "metadata": {
        "id": "UMtNWGKAtcg6",
        "colab_type": "text"
      },
      "source": [
        "Now, make a prediction using the maximum likelihood estimate that we just found :"
      ]
    },
    {
      "cell_type": "code",
      "metadata": {
        "id": "k50pPXkLtcg7",
        "colab_type": "code",
        "colab": {}
      },
      "source": [
        "## TODO 1: EDIT THIS FUNCTION\n",
        "def max_lik_estimate(X, y):    \n",
        "    # X: N x D matrix of training inputs\n",
        "    # y: N x 1 vector of training targets/observations\n",
        "    # returns: maximum likelihood parameters (D x 1)\n",
        "    \n",
        "    N, D = X.shape\n",
        "    inverse = np.linalg.inv(np.matmul(np.transpose(X),X))\n",
        "    theta_ml = np.matmul(np.matmul(inverse, np.transpose(X)),y) ## <-- EDIT THIS LINE    \n",
        "\n",
        "    return theta_ml"
      ],
      "execution_count": 0,
      "outputs": []
    },
    {
      "cell_type": "code",
      "metadata": {
        "id": "ovdFK--Ytcg-",
        "colab_type": "code",
        "colab": {}
      },
      "source": [
        "# get maximum likelihood estimate\n",
        "theta_ml = max_lik_estimate(X,y)"
      ],
      "execution_count": 0,
      "outputs": []
    },
    {
      "cell_type": "markdown",
      "metadata": {
        "id": "be_tmExhtchB",
        "colab_type": "text"
      },
      "source": [
        "Now, let's see whether we got something useful:"
      ]
    },
    {
      "cell_type": "code",
      "metadata": {
        "id": "xCn2ctubtchB",
        "colab_type": "code",
        "colab": {}
      },
      "source": [
        "## TODO 2: EDIT THIS FUNCTION\n",
        "def predict_with_estimate(Xtest, theta):\n",
        "    \n",
        "    # Xtest: K x D matrix of test inputs\n",
        "    # theta: D x 1 vector of parameters\n",
        "    # returns: prediction of f(Xtest); K x 1 vector\n",
        "    \n",
        "    prediction = np.matmul(Xtest,theta) ## <-- EDIT THIS LINE       \n",
        "    \n",
        "    return prediction "
      ],
      "execution_count": 0,
      "outputs": []
    },
    {
      "cell_type": "code",
      "metadata": {
        "id": "nLBObEHDtchE",
        "colab_type": "code",
        "colab": {
          "base_uri": "https://localhost:8080/",
          "height": 279
        },
        "outputId": "c1760bcb-3a1c-4fec-9418-1061becf0193"
      },
      "source": [
        "# define a test set\n",
        "Xtest = np.linspace(-5,5,100).reshape(-1,1) # 100 x 1 vector of test inputs\n",
        "\n",
        "# predict the function values at the test points using the maximum likelihood estimator\n",
        "ml_prediction = predict_with_estimate(Xtest, theta_ml)\n",
        "\n",
        "# plot\n",
        "plt.figure()\n",
        "plt.plot(X, y, '+', markersize=10)\n",
        "plt.plot(Xtest, ml_prediction)\n",
        "plt.xlabel(\"$x$\")\n",
        "plt.ylabel(\"$y$\");"
      ],
      "execution_count": 241,
      "outputs": [
        {
          "output_type": "display_data",
          "data": {
            "image/png": "[encoded data removed]",
            "text/plain": [
              "<Figure size 432x288 with 1 Axes>"
            ]
          },
          "metadata": {
            "tags": []
          }
        }
      ]
    },
    {
      "cell_type": "markdown",
      "metadata": {
        "id": "1MnhnvrUtchG",
        "colab_type": "text"
      },
      "source": [
        "**Questions 1**\n",
        "\n",
        "Q1-1. Does the solution above look reasonable?\n",
        "\n",
        "Q1-2. Play around with different values of $\\theta$. How do the corresponding functions change?\n",
        "\n",
        "Q1-3. Modify the training targets $\\mathcal Y$ and re-run your computation. What changes?"
      ]
    },
    {
      "cell_type": "markdown",
      "metadata": {
        "id": "qJgzLxrhoncF",
        "colab_type": "text"
      },
      "source": [
        "**Answers 1**\n",
        "\n",
        "Q1-1. Yes, it fits the given points reasonably.\n",
        "\n",
        "Q1-2. It determines the slope of the solution. Doubling the theta makes the slope steeper, and reducing it by half reduces the slope.\n",
        "\n",
        "Q1-3. Modifications in Y changes the slope of the solution.\n",
        "\n",
        "\n",
        "---\n",
        "\n"
      ]
    },
    {
      "cell_type": "markdown",
      "metadata": {
        "id": "um32YzT0tchH",
        "colab_type": "text"
      },
      "source": [
        "Let us now look at a different training set, where we add 2.0 to every $y$-value, and compute the maximum likelihood estimate"
      ]
    },
    {
      "cell_type": "code",
      "metadata": {
        "id": "nBIcmUqHtchI",
        "colab_type": "code",
        "colab": {
          "base_uri": "https://localhost:8080/",
          "height": 279
        },
        "outputId": "355a909f-7ea4-4741-dad2-dc6aa8eafd6e"
      },
      "source": [
        "ynew = y + 2.0\n",
        "\n",
        "plt.figure()\n",
        "plt.plot(X, ynew, '+', markersize=10)\n",
        "plt.xlabel(\"$x$\")\n",
        "plt.ylabel(\"$y$\");"
      ],
      "execution_count": 242,
      "outputs": [
        {
          "output_type": "display_data",
          "data": {
            "image/png": "[encoded data removed]",
            "text/plain": [
              "<Figure size 432x288 with 1 Axes>"
            ]
          },
          "metadata": {
            "tags": []
          }
        }
      ]
    },
    {
      "cell_type": "code",
      "metadata": {
        "id": "NiS3f39ptchL",
        "colab_type": "code",
        "colab": {
          "base_uri": "https://localhost:8080/",
          "height": 297
        },
        "outputId": "33b56127-9677-47d8-e84c-b811327f8c2f"
      },
      "source": [
        "# get maximum likelihood estimate\n",
        "theta_ml = max_lik_estimate(X, ynew)\n",
        "print(theta_ml)\n",
        "\n",
        "# define a test set\n",
        "Xtest = np.linspace(-5,5,100).reshape(-1,1) # 100 x 1 vector of test inputs\n",
        "\n",
        "# predict the function values at the test points using the maximum likelihood estimator\n",
        "ml_prediction = predict_with_estimate(Xtest, theta_ml)\n",
        "\n",
        "# plot\n",
        "plt.figure()\n",
        "plt.plot(X, ynew, '+', markersize=10)\n",
        "plt.plot(Xtest, ml_prediction)\n",
        "plt.xlabel(\"$x$\")\n",
        "plt.ylabel(\"$y$\");"
      ],
      "execution_count": 243,
      "outputs": [
        {
          "output_type": "stream",
          "text": [
            "[[0.499]]\n"
          ],
          "name": "stdout"
        },
        {
          "output_type": "display_data",
          "data": {
            "image/png": "[encoded data removed]",
            "text/plain": [
              "<Figure size 432x288 with 1 Axes>"
            ]
          },
          "metadata": {
            "tags": []
          }
        }
      ]
    },
    {
      "cell_type": "markdown",
      "metadata": {
        "id": "geV8NhVltchO",
        "colab_type": "text"
      },
      "source": [
        "**Questions 2**\n",
        "\n",
        "Q2-1. This maximum likelihood estimate doesn't look too good: The orange line is too far away from the observations although we just shifted them by 2. Why is this the case?\n",
        "\n",
        "Q2-2. How can we fix this problem?\n"
      ]
    },
    {
      "cell_type": "markdown",
      "metadata": {
        "id": "g6t75rXrrLBZ",
        "colab_type": "text"
      },
      "source": [
        "**Answers 2**\n",
        "\n",
        "Q2-1. Our current maximum lifelihood estimate only determines the slope of the line, not where it is located.\n",
        "\n",
        "Q2-2. Modify the linear regression calculation so that is takes account where the points are located.\n",
        "\n",
        "\n",
        "---\n"
      ]
    },
    {
      "cell_type": "markdown",
      "metadata": {
        "id": "lq7jAcevtchO",
        "colab_type": "text"
      },
      "source": [
        "Let us now define a linear regression model that is slightly more flexible:\n",
        "$$\n",
        "y = \\theta_0 + \\boldsymbol x^T \\boldsymbol\\theta_1 + \\epsilon\\,,\\quad \\epsilon\\sim\\mathcal N(0,\\sigma^2)\n",
        "$$\n",
        "Here, we added an offset (bias) parameter $\\theta_0$ to our original model."
      ]
    },
    {
      "cell_type": "markdown",
      "metadata": {
        "id": "OqU5oGPXtchQ",
        "colab_type": "text"
      },
      "source": [
        "If we now define the inputs to be the augmented vector $\\boldsymbol x_{\\text{aug}} = \\begin{bmatrix}1\\\\\\boldsymbol x\\end{bmatrix}$, we can write the new linear regression model as \n",
        "$$\n",
        "y = \\boldsymbol x_{\\text{aug}}^T\\boldsymbol\\theta_{\\text{aug}} + \\epsilon\\,,\\quad \\boldsymbol\\theta_{\\text{aug}} = \\begin{bmatrix}\n",
        "\\theta_0\\\\\n",
        "\\boldsymbol\\theta_1\n",
        "\\end{bmatrix}\\,.\n",
        "$$"
      ]
    },
    {
      "cell_type": "code",
      "metadata": {
        "id": "bON8S0VNtchR",
        "colab_type": "code",
        "colab": {}
      },
      "source": [
        "N, D = X.shape\n",
        "X_aug = np.hstack([np.ones((N,1)), X]) # augmented training inputs of size N x (D+1)\n",
        "theta_aug = np.zeros((D+1, 1)) # new theta vector of size (D+1) x 1"
      ],
      "execution_count": 0,
      "outputs": []
    },
    {
      "cell_type": "markdown",
      "metadata": {
        "id": "Rxi4dh5WtchT",
        "colab_type": "text"
      },
      "source": [
        "Let us now compute the maximum likelihood estimator for this setting.\n",
        "_Hint:_ If possible, re-use code that you have already written"
      ]
    },
    {
      "cell_type": "code",
      "metadata": {
        "id": "BMCRLF5stchU",
        "colab_type": "code",
        "colab": {}
      },
      "source": [
        "## TODO 3: EDIT THIS FUNCTION\n",
        "def max_lik_estimate_aug(X_aug, y):\n",
        "  \n",
        "    N, D = X_aug.shape\n",
        "    inverse = np.linalg.inv(np.matmul(np.transpose(X_aug),X_aug))\n",
        "    theta_aug_ml = np.matmul(np.matmul(inverse, np.transpose(X_aug)),y) ## <-- EDIT THIS LINE    \n",
        "    \n",
        "    return theta_aug_ml"
      ],
      "execution_count": 0,
      "outputs": []
    },
    {
      "cell_type": "code",
      "metadata": {
        "id": "1J71b9m4tchW",
        "colab_type": "code",
        "colab": {}
      },
      "source": [
        "theta_aug_ml = max_lik_estimate_aug(X_aug, ynew*0.5)"
      ],
      "execution_count": 0,
      "outputs": []
    },
    {
      "cell_type": "markdown",
      "metadata": {
        "id": "cfAD5SmWtchZ",
        "colab_type": "text"
      },
      "source": [
        "Now, we can make predictions again:"
      ]
    },
    {
      "cell_type": "code",
      "metadata": {
        "id": "9FEmkdSbtchZ",
        "colab_type": "code",
        "colab": {
          "base_uri": "https://localhost:8080/",
          "height": 279
        },
        "outputId": "b616198c-4da7-4790-a5fd-2d0bb1ad9e13"
      },
      "source": [
        "# define a test set (we also need to augment the test inputs with ones)\n",
        "Xtest_aug = np.hstack([np.ones((Xtest.shape[0],1)), Xtest]) # 100 x (D + 1) vector of test inputs\n",
        "\n",
        "# predict the function values at the test points using the maximum likelihood estimator\n",
        "ml_prediction = predict_with_estimate(Xtest_aug, theta_aug_ml)\n",
        "\n",
        "# plot\n",
        "plt.figure()\n",
        "plt.plot(X, ynew, '+', markersize=10)\n",
        "plt.plot(Xtest, ml_prediction)\n",
        "plt.xlabel(\"$x$\")\n",
        "plt.ylabel(\"$y$\");"
      ],
      "execution_count": 247,
      "outputs": [
        {
          "output_type": "display_data",
          "data": {
            "image/png": "[encoded data removed]",
            "text/plain": [
              "<Figure size 432x288 with 1 Axes>"
            ]
          },
          "metadata": {
            "tags": []
          }
        }
      ]
    },
    {
      "cell_type": "markdown",
      "metadata": {
        "id": "FieYy4v7tchc",
        "colab_type": "text"
      },
      "source": [
        "It seems this has solved our problem! \n",
        "\n",
        "**Questions 3**\n",
        "\n",
        "Q3-1. Play around with the first parameter of $\\boldsymbol\\theta_{\\text{aug}}$ and describe how the fit of the function changes.\n",
        "\n",
        "Q3-2. Play around with the second parameter of $\\boldsymbol\\theta_{\\text{aug}}$ and describe how the fit of the function changes.\n"
      ]
    },
    {
      "cell_type": "markdown",
      "metadata": {
        "id": "iH8GVnaprm72",
        "colab_type": "text"
      },
      "source": [
        "**Answers 3**\n",
        "\n",
        "Q3-1. Multiplying the first argument by a factor is inversely proportional to the slope of the fit function.\n",
        "\n",
        "Q3-2. Multiplying the second argument by a factor is directly proportional to the slope of the fit function, and diverges from the best fit.\n",
        "\n",
        "\n",
        "---"
      ]
    },
    {
      "cell_type": "markdown",
      "metadata": {
        "id": "V01hHiXVtchd",
        "colab_type": "text"
      },
      "source": [
        "### Nonlinear Features : Polynomial Regression\n",
        "So far, we have looked at linear regression with linear features. This allowed us to fit straight lines. However, linear regression also allows us to fit functions that are nonlinear in the inputs $\\boldsymbol x$, as long as the parameters $\\boldsymbol\\theta$ appear linearly. This means, we can learn functions of the form\n",
        "$$\n",
        "f(\\boldsymbol x, \\boldsymbol\\theta) = \\sum_{k = 1}^K \\theta_k \\phi_k(\\boldsymbol x)\\,,\n",
        "$$\n",
        "where the features $\\phi_k(\\boldsymbol x)$ are (possibly nonlinear) transformations of the inputs $\\boldsymbol x$.\n",
        "\n",
        "Let us have a look at an example where the observations clearly do not lie on a straight line:"
      ]
    },
    {
      "cell_type": "code",
      "metadata": {
        "id": "Oo7QVGq6tche",
        "colab_type": "code",
        "colab": {
          "base_uri": "https://localhost:8080/",
          "height": 279
        },
        "outputId": "e0d8158c-ebd0-427f-b711-9d411bd625a3"
      },
      "source": [
        "y = np.array([10.05, 1.5, -1.234, 0.02, 8.03]).reshape(-1,1)\n",
        "plt.figure()\n",
        "plt.plot(X, y, '+')\n",
        "plt.xlabel(\"$x$\")\n",
        "plt.ylabel(\"$y$\");"
      ],
      "execution_count": 248,
      "outputs": [
        {
          "output_type": "display_data",
          "data": {
            "image/png": "[encoded data removed]",
            "text/plain": [
              "<Figure size 432x288 with 1 Axes>"
            ]
          },
          "metadata": {
            "tags": []
          }
        }
      ]
    },
    {
      "cell_type": "markdown",
      "metadata": {
        "id": "_rxZyiYCtchg",
        "colab_type": "text"
      },
      "source": [
        "One class of functions that is covered by linear regression is the family of polynomials because we can write a polynomial of degree $K$ as\n",
        "$$\n",
        "\\sum_{k=0}^K \\theta_k x^k = \\boldsymbol \\phi(x)^T\\boldsymbol\\theta\\,,\\quad\n",
        "\\boldsymbol\\phi(x)= \n",
        "\\begin{bmatrix}\n",
        "x^0\\\\\n",
        "x^1\\\\\n",
        "\\vdots\\\\\n",
        "x^K\n",
        "\\end{bmatrix}\\in\\mathbb{R}^{K+1}\\,.\n",
        "$$\n",
        "Here, $\\boldsymbol\\phi(x)$ is a nonlinear feature transformation of the inputs $x\\in\\mathbb{R}$.\n",
        "\n",
        "Similar to the earlier case we can define a matrix that collects all the feature transformations of the training inputs:\n",
        "$$\n",
        "\\boldsymbol\\Phi = \\begin{bmatrix}\n",
        "\\boldsymbol\\phi(x_1) & \\boldsymbol\\phi(x_2) & \\cdots & \\boldsymbol\\phi(x_n)\n",
        "\\end{bmatrix}^T \\in\\mathbb{R}^{N\\times K+1}\n",
        "$$"
      ]
    },
    {
      "cell_type": "markdown",
      "metadata": {
        "id": "0BEsjzJztchh",
        "colab_type": "text"
      },
      "source": [
        "Let us start by computing the feature matrix $\\boldsymbol \\Phi$"
      ]
    },
    {
      "cell_type": "code",
      "metadata": {
        "id": "mJwk-iSdtchi",
        "colab_type": "code",
        "colab": {}
      },
      "source": [
        "## TODO 4: EDIT THIS FUNCTION\n",
        "def poly_features(X, K):\n",
        "    \n",
        "    # X: inputs of size N x 1\n",
        "    # K: degree of the polynomial\n",
        "    # computes the feature matrix Phi (N x (K+1))\n",
        "    \n",
        "    N = X.shape[0]\n",
        "    \n",
        "    #initialize Phi\n",
        "    Phi = np.zeros((N, K+1))\n",
        "    \n",
        "    # Compute the feature matrix in stages\n",
        "    pwrs = np.arange(K)\n",
        "    Phi = np.power(X,pwrs) ## <-- EDIT THIS LINE    \n",
        "    \n",
        "    return Phi"
      ],
      "execution_count": 0,
      "outputs": []
    },
    {
      "cell_type": "markdown",
      "metadata": {
        "id": "0hUKSAbotchk",
        "colab_type": "text"
      },
      "source": [
        "With this feature matrix we get the maximum likelihood estimator as\n",
        "$$\n",
        "\\boldsymbol \\theta^\\text{ML} = (\\boldsymbol\\Phi^T\\boldsymbol\\Phi)^{-1}\\boldsymbol\\Phi^T\\boldsymbol y\n",
        "$$\n",
        "For reasons of numerical stability, we often add a small diagonal \"jitter\" $\\kappa>0$ to $\\boldsymbol\\Phi^T\\boldsymbol\\Phi$ so that we can invert the matrix without significant problems so that the maximum likelihood estimate becomes\n",
        "$$\n",
        "\\boldsymbol \\theta^\\text{ML} = (\\boldsymbol\\Phi^T\\boldsymbol\\Phi + \\kappa\\boldsymbol I)^{-1}\\boldsymbol\\Phi^T\\boldsymbol y\n",
        "$$"
      ]
    },
    {
      "cell_type": "code",
      "metadata": {
        "id": "MKAMNMq4tchl",
        "colab_type": "code",
        "colab": {}
      },
      "source": [
        "## TODO 5: EDIT THIS FUNCTION\n",
        "def nonlinear_features_maximum_likelihood(Phi, y):\n",
        "    # Phi: features matrix for training inputs. Size of N x D\n",
        "    # y: training targets. Size of N by 1\n",
        "    # returns: maximum likelihood estimator theta_ml. Size of D x 1\n",
        "    \n",
        "    kappa = 1e-08 # 'jitter' term; good for numerical stability\n",
        "    \n",
        "    D = Phi.shape[1]  \n",
        "    \n",
        "    # maximum likelihood estimate    \n",
        "    inverse = np.linalg.inv(np.matmul(np.transpose(Phi),Phi)+np.identity(D)*kappa)\n",
        "    theta_ml = inverse @ np.transpose(Phi) @ y ## <-- EDIT THIS LINE    \n",
        " \n",
        "    return theta_ml"
      ],
      "execution_count": 0,
      "outputs": []
    },
    {
      "cell_type": "markdown",
      "metadata": {
        "id": "xWc1LLMmtchp",
        "colab_type": "text"
      },
      "source": [
        "Now we have all the ingredients together: The computation of the feature matrix and the computation of the maximum likelihood estimator for polynomial regression. Let's see how this works.\n",
        "\n",
        "To make predictions at test inputs $\\boldsymbol X_{\\text{test}}\\in\\mathbb{R}$, we need to compute the features (nonlinear transformations) $\\boldsymbol\\Phi_{\\text{test}}= \\boldsymbol\\phi(\\boldsymbol X_{\\text{test}})$ of $\\boldsymbol X_{\\text{test}}$ to give us the predicted mean\n",
        "$$\n",
        "\\mathbb{E}[\\boldsymbol y_{\\text{test}}] = \\boldsymbol \\Phi_{\\text{test}}\\boldsymbol\\theta^{\\text{ML}}\n",
        "$$"
      ]
    },
    {
      "cell_type": "code",
      "metadata": {
        "id": "cN2drY4ktchr",
        "colab_type": "code",
        "colab": {
          "base_uri": "https://localhost:8080/",
          "height": 279
        },
        "outputId": "317036cb-55cb-4d79-8d2c-7414887598aa"
      },
      "source": [
        "K = 2 # Define the degree of the polynomial we wish to fit\n",
        "Phi = poly_features(X, K) # N x (K+1) feature matrix\n",
        "\n",
        "\n",
        "theta_ml = nonlinear_features_maximum_likelihood(Phi, y) # maximum likelihood estimator\n",
        "\n",
        "# test inputs\n",
        "Xtest = np.linspace(-4,4,100).reshape(-1,1)\n",
        "\n",
        "# feature matrix for test inputs\n",
        "Phi_test = poly_features(Xtest, K)\n",
        "\n",
        "y_pred = Phi_test @ theta_ml # predicted y-values\n",
        "\n",
        "plt.figure()\n",
        "plt.plot(X, y, '+')\n",
        "plt.plot(Xtest, y_pred)\n",
        "plt.xlabel(\"$x$\")\n",
        "plt.ylabel(\"$y$\");"
      ],
      "execution_count": 251,
      "outputs": [
        {
          "output_type": "display_data",
          "data": {
            "image/png": "[encoded data removed]",
            "text/plain": [
              "<Figure size 432x288 with 1 Axes>"
            ]
          },
          "metadata": {
            "tags": []
          }
        }
      ]
    },
    {
      "cell_type": "markdown",
      "metadata": {
        "id": "xAyIg9EGtchu",
        "colab_type": "text"
      },
      "source": [
        "Experiment with different polynomial degrees in the code above.\n",
        "\n",
        "**Questions 4**\n",
        "\n",
        "Q4-1. What do you observe?\n",
        "\n",
        "Q4-2. What is a good fit?"
      ]
    },
    {
      "cell_type": "markdown",
      "metadata": {
        "id": "o_Ix8AXIrw67",
        "colab_type": "text"
      },
      "source": [
        "**Answers 4**\n",
        "\n",
        "Q4-1. The degree of polynomial changes the shape of the fit.\n",
        "\n",
        "Q4-2. It is difficult to define a \"good fit\" but degree of 2 and 3 looks like a good fit.\n",
        "\n",
        "\n",
        "---"
      ]
    },
    {
      "cell_type": "markdown",
      "metadata": {
        "id": "QXRnv4cStchy",
        "colab_type": "text"
      },
      "source": [
        "### Evaluating the Quality of the Model"
      ]
    },
    {
      "cell_type": "markdown",
      "metadata": {
        "id": "1HdvFeDCtchz",
        "colab_type": "text"
      },
      "source": [
        "Let us have a look at a more interesting data set"
      ]
    },
    {
      "cell_type": "code",
      "metadata": {
        "id": "o-v0-xCjtch0",
        "colab_type": "code",
        "colab": {
          "base_uri": "https://localhost:8080/",
          "height": 279
        },
        "outputId": "2230f64b-aa41-46b8-a14b-4c247a4439bd"
      },
      "source": [
        "def f(x):   \n",
        "    return np.cos(x) + 0.2 * np.random.normal(size=(x.shape))\n",
        "\n",
        "X = np.linspace(-4,4,20).reshape(-1,1)\n",
        "y = f(X)\n",
        "\n",
        "plt.figure()\n",
        "plt.plot(X, y, '+')\n",
        "plt.xlabel(\"$x$\")\n",
        "plt.ylabel(\"$y$\");"
      ],
      "execution_count": 252,
      "outputs": [
        {
          "output_type": "display_data",
          "data": {
            "image/png": "[encoded data removed]",
            "text/plain": [
              "<Figure size 432x288 with 1 Axes>"
            ]
          },
          "metadata": {
            "tags": []
          }
        }
      ]
    },
    {
      "cell_type": "markdown",
      "metadata": {
        "id": "j4MHAdH0tch2",
        "colab_type": "text"
      },
      "source": [
        "Now, let us use the work from above and fit polynomials to this dataset."
      ]
    },
    {
      "cell_type": "code",
      "metadata": {
        "id": "6ePqMMRktch3",
        "colab_type": "code",
        "colab": {
          "base_uri": "https://localhost:8080/",
          "height": 279
        },
        "outputId": "17de8c65-9cfc-494d-c503-c7531900c087"
      },
      "source": [
        "## TODO 6: EDIT THIS CELL\n",
        "K = 7 # Define the degree of the polynomial we wish to fit\n",
        "\n",
        "Phi = poly_features(X, K) # N x (K+1) feature matrix\n",
        "\n",
        "theta_ml = nonlinear_features_maximum_likelihood(Phi, y) # maximum likelihood estimator\n",
        "\n",
        "# test inputs\n",
        "Xtest = np.linspace(-5,5,100).reshape(-1,1)\n",
        "ytest = f(Xtest) # ground-truth y-values\n",
        "\n",
        "# feature matrix for test inputs\n",
        "Phi_test = poly_features(Xtest, K)\n",
        "\n",
        "y_pred = Phi_test @ theta_ml # <-- EDIT THIS LINE\n",
        "\n",
        "\n",
        "# plot\n",
        "plt.figure()\n",
        "plt.plot(X, y, '+')\n",
        "plt.plot(Xtest, y_pred)\n",
        "plt.plot(Xtest, ytest)\n",
        "plt.legend([\"data\", \"prediction\", \"ground truth observations\"])\n",
        "plt.xlabel(\"$x$\")\n",
        "plt.ylabel(\"$y$\");\n"
      ],
      "execution_count": 253,
      "outputs": [
        {
          "output_type": "display_data",
          "data": {
            "image/png": "[encoded data removed]",
            "text/plain": [
              "<Figure size 432x288 with 1 Axes>"
            ]
          },
          "metadata": {
            "tags": []
          }
        }
      ]
    },
    {
      "cell_type": "markdown",
      "metadata": {
        "id": "MlgJ3x7Ftch5",
        "colab_type": "text"
      },
      "source": [
        "**Question 5**\n",
        "\n",
        "Q5-1. Try out different degrees of polynomials. Based on visual inspection, what looks like the best fit? Why?"
      ]
    },
    {
      "cell_type": "markdown",
      "metadata": {
        "id": "UuLJvMGIsJYv",
        "colab_type": "text"
      },
      "source": [
        "**Answers 5**\n",
        "\n",
        "Q5-1. A degree of 6 looks like the best fit. It deviates the least from the ground truth observations.\n",
        "\n",
        "\n",
        "---"
      ]
    },
    {
      "cell_type": "markdown",
      "metadata": {
        "id": "5EwLRp7Stch5",
        "colab_type": "text"
      },
      "source": [
        "Let us now look at a more systematic way to assess the quality of the polynomial that we are trying to fit. For this, we compute the root-mean-squared-error (RMSE) between the $y$-values predicted by our polynomial and the ground-truth $y$-values. The RMSE is then defined as\n",
        "$$\n",
        "\\text{RMSE} = \\sqrt{\\frac{1}{N}\\sum_{n=1}^N(y_n - y_n^\\text{pred})^2}\n",
        "$$\n",
        "Write a function that computes the RMSE."
      ]
    },
    {
      "cell_type": "code",
      "metadata": {
        "id": "Jm-JtR1Ptch6",
        "colab_type": "code",
        "colab": {}
      },
      "source": [
        "## TODO 7: EDIT THIS FUNCTION\n",
        "def RMSE(y, ypred):\n",
        "    df = y-ypred\n",
        "    dfsq = np.power(df, 2)\n",
        "    avg = np.average(dfsq)\n",
        "    rmse = np.sqrt(avg) ## <-- EDIT THIS LINE        \n",
        "    \n",
        "    return rmse"
      ],
      "execution_count": 0,
      "outputs": []
    },
    {
      "cell_type": "markdown",
      "metadata": {
        "id": "od2xmy17tch8",
        "colab_type": "text"
      },
      "source": [
        "Now compute the RMSE for different degrees of the polynomial we want to fit."
      ]
    },
    {
      "cell_type": "code",
      "metadata": {
        "id": "ZD2NLB0ztch8",
        "colab_type": "code",
        "colab": {
          "base_uri": "https://localhost:8080/",
          "height": 387
        },
        "outputId": "55f143ff-e8ad-4455-c02c-ef3d4d8edccc"
      },
      "source": [
        "## TODO 8: EDIT THIS CELL\n",
        "K_max = 20\n",
        "rmse_train = np.zeros((K_max+1,))\n",
        "\n",
        "for k in range(K_max+1): \n",
        "    Phi = poly_features(X, k) # N x (K+1) feature matrix\n",
        "\n",
        "    theta_ml = nonlinear_features_maximum_likelihood(Phi, y) # maximum likelihood estimator\n",
        "\n",
        "    # test inputs\n",
        "    Xtest = np.linspace(-5,5,100).reshape(-1,1)\n",
        "    ytest = f(Xtest) # ground-truth y-values\n",
        "\n",
        "    # feature matrix for test inputs\n",
        "    Phi_test = poly_features(Xtest, k)\n",
        "\n",
        "    y_pred = Phi_test @ theta_ml   \n",
        "    rmse_train[k] = RMSE(ytest, y_pred) # <-- EDIT THIS LINE\n",
        "    \n",
        "print(rmse_train)\n",
        "plt.figure()\n",
        "plt.plot(rmse_train)\n",
        "plt.xlabel(\"degree of polynomial\")\n",
        "plt.ylabel(\"RMSE\");"
      ],
      "execution_count": 255,
      "outputs": [
        {
          "output_type": "stream",
          "text": [
            "[7.47303946e-01 6.74083879e-01 6.91034277e-01 8.68211755e-01\n",
            " 8.90003743e-01 6.89975123e-01 6.86229194e-01 2.39050311e-01\n",
            " 1.15962331e+00 1.75007571e+00 1.87086360e+00 3.39483705e+00\n",
            " 1.96340826e+01 3.50279857e+01 3.43295495e+01 1.94031983e+01\n",
            " 1.87320412e+03 2.16530529e+03 2.62635090e+04 1.26251267e+05\n",
            " 1.64359602e+05]\n"
          ],
          "name": "stdout"
        },
        {
          "output_type": "display_data",
          "data": {
            "image/png": "[encoded data removed]",
            "text/plain": [
              "<Figure size 432x288 with 1 Axes>"
            ]
          },
          "metadata": {
            "tags": []
          }
        }
      ]
    },
    {
      "cell_type": "markdown",
      "metadata": {
        "id": "8vYzQ4Tftch_",
        "colab_type": "text"
      },
      "source": [
        "**Question 6**\n",
        "\n",
        "Q6-1. What is the best polynomial fit according to this plot? Why?\n",
        "\n",
        "Q6-2. Write some code that plots the function that uses the best polynomial degree (use the test set for this plot). What do you observe now?\n"
      ]
    },
    {
      "cell_type": "markdown",
      "metadata": {
        "id": "hkRYupaqsT8H",
        "colab_type": "text"
      },
      "source": [
        "**Answers 6**\n",
        "\n",
        "Q6-1. The polynomial fit of degree 6 is the best fit because it has the least RMSE.\n",
        "\n",
        "Q6-2. The best fit function fits well to the given points.\n",
        "\n",
        "\n",
        "---"
      ]
    },
    {
      "cell_type": "code",
      "metadata": {
        "id": "JjSkzSLotch_",
        "colab_type": "code",
        "colab": {
          "base_uri": "https://localhost:8080/",
          "height": 279
        },
        "outputId": "2577e6fc-4752-41af-e280-22902fd5c61a"
      },
      "source": [
        "# TODO 9: WRITE THE PLOTTING CODE HERE\n",
        "plt.figure()\n",
        "plt.plot(X, y, '+')\n",
        "\n",
        "K = np.argmin(rmse_train)\n",
        "\n",
        "# feature matrix for test inputs\n",
        "Phi_test = poly_features(Xtest, K)\n",
        "theta_test = nonlinear_features_maximum_likelihood(Phi_test, ytest) # maximum likelihood estimator\n",
        "\n",
        "ypred_test = Phi_test @ theta_test ## <--- EDIT THIS LINE (hint: you may require a few lines to do the computation)\n",
        "\n",
        "plt.plot(Xtest, ypred_test) \n",
        "plt.xlabel(\"$x$\")\n",
        "plt.ylabel(\"$y$\")\n",
        "plt.legend([\"train_data\", \"maximum likelihood fit\"]);"
      ],
      "execution_count": 256,
      "outputs": [
        {
          "output_type": "display_data",
          "data": {
            "image/png": "[encoded data removed]",
            "text/plain": [
              "<Figure size 432x288 with 1 Axes>"
            ]
          },
          "metadata": {
            "tags": []
          }
        }
      ]
    },
    {
      "cell_type": "markdown",
      "metadata": {
        "id": "mHU6xQLxtciB",
        "colab_type": "text"
      },
      "source": [
        "The RMSE on the training data is somewhat misleading, because we are interested in the generalization performance of the model. Therefore, we are going to compute the RMSE on the test set and use this to choose a good polynomial degree."
      ]
    },
    {
      "cell_type": "code",
      "metadata": {
        "id": "dZq6mD0itciC",
        "colab_type": "code",
        "colab": {
          "base_uri": "https://localhost:8080/",
          "height": 279
        },
        "outputId": "c45c14a7-9b67-49a2-8d97-85602d616418"
      },
      "source": [
        "## TODO 10: EDIT THIS CELL\n",
        "K_max = 20\n",
        "rmse_train = np.zeros((K_max+1,))\n",
        "rmse_test = np.zeros((K_max+1,))\n",
        "\n",
        "for k in range(K_max+1):\n",
        "    \n",
        "    # feature matrix\n",
        "    Phi = poly_features(X, k) ## <--- EDIT THIS LINE\n",
        "    \n",
        "    # maximum likelihood estimate\n",
        "    theta_ml = nonlinear_features_maximum_likelihood(Phi, y) ## <--- EDIT THIS LINE\n",
        "    \n",
        "    # predict y-values of training set\n",
        "    ypred_train = Phi @ theta_ml ## <--- EDIT THIS LINE\n",
        "    \n",
        "    # RMSE on training set\n",
        "    rmse_train[k] = RMSE(y,ypred_train) ## <--- EDIT THIS LINE\n",
        "            \n",
        "    # feature matrix for test inputs\n",
        "    Phi_test = poly_features(Xtest, k) ## <--- EDIT THIS LINE\n",
        "    \n",
        "    # prediction (test set)\n",
        "    ypred_test = Phi_test @ theta_ml ## <--- EDIT THIS LINE\n",
        "    \n",
        "    # RMSE on test set\n",
        "    rmse_test[k] = RMSE(ytest, ypred_test) ## <--- EDIT THIS LINE\n",
        "\n",
        "\n",
        "plt.figure()\n",
        "plt.semilogy(rmse_train) # this plots the RMSE on a logarithmic scale\n",
        "plt.semilogy(rmse_test) # this plots the RMSE on a logarithmic scale\n",
        "plt.xlabel(\"degree of polynomial\")\n",
        "plt.ylabel(\"RMSE\")\n",
        "plt.legend([\"training set\", \"test set\"]);"
      ],
      "execution_count": 257,
      "outputs": [
        {
          "output_type": "display_data",
          "data": {
            "image/png": "[encoded data removed]",
            "text/plain": [
              "<Figure size 432x288 with 1 Axes>"
            ]
          },
          "metadata": {
            "tags": []
          }
        }
      ]
    },
    {
      "cell_type": "markdown",
      "metadata": {
        "id": "f6LvGu69tciE",
        "colab_type": "text"
      },
      "source": [
        "**Question 7**\n",
        "\n",
        "Q7-1. What do you observe now?\n",
        "\n",
        "Q7-2. Why does the RMSE for the test set not always go down?\n",
        "\n",
        "Q7-3. Which polynomial degree would you choose now?\n",
        "\n",
        "Q7-4. Plot the fit for the \"best\" polynomial degree.\n",
        "\n",
        "Q7-5. If you did not have a designated test set, what could you do to estimate the generalization error (purely using the training set)?"
      ]
    },
    {
      "cell_type": "markdown",
      "metadata": {
        "id": "7Jaq0Qv3smT0",
        "colab_type": "text"
      },
      "source": [
        "**Answers 7**\n",
        "\n",
        "Q7-1. For training set, increase in degree reduces the RMSE, but for test set, increase in degree increases the RMSE.\n",
        "\n",
        "Q7-2. Because elements in the test set may deviate from the fit function.\n",
        "\n",
        "Q7-3. Degree of 9\n",
        "\n",
        "Q7-4. *(IMPLEMENT CODE CELL BELOW (TODO 11))*\n",
        "\n",
        "Q7-5. Introduce noise to the training set.\n"
      ]
    },
    {
      "cell_type": "code",
      "metadata": {
        "id": "WuT2KxpotciF",
        "colab_type": "code",
        "colab": {
          "base_uri": "https://localhost:8080/",
          "height": 279
        },
        "outputId": "c1afe527-22cd-4f66-a15a-1b599496d72b"
      },
      "source": [
        "# TODO 11: WRITE THE PLOTTING CODE HERE\n",
        "plt.figure()\n",
        "plt.plot(X, y, '+')\n",
        "\n",
        "Phi_test = poly_features(Xtest, 9)\n",
        "theta_test = nonlinear_features_maximum_likelihood(Phi_test, ytest) # maximum likelihood estimator\n",
        "\n",
        "ypred_test = Phi_test @ theta_test ## <--- EDIT THIS LINE (hint: you may require a few lines to do the computation)\n",
        "\n",
        "plt.plot(Xtest, ypred_test) \n",
        "plt.xlabel(\"$x$\")\n",
        "plt.ylabel(\"$y$\")\n",
        "plt.legend([\"data\", \"maximum likelihood fit\"]);"
      ],
      "execution_count": 258,
      "outputs": [
        {
          "output_type": "display_data",
          "data": {
            "image/png": "[encoded data removed]",
            "text/plain": [
              "<Figure size 432x288 with 1 Axes>"
            ]
          },
          "metadata": {
            "tags": []
          }
        }
      ]
    },
    {
      "cell_type": "markdown",
      "metadata": {
        "id": "COOqjkYotFIs",
        "colab_type": "text"
      },
      "source": [
        "\n",
        "\n",
        "---\n",
        "\n"
      ]
    },
    {
      "cell_type": "markdown",
      "metadata": {
        "id": "7TNY5KlttciH",
        "colab_type": "text"
      },
      "source": [
        "## 2. Maximum A Posteriori Estimation"
      ]
    },
    {
      "cell_type": "markdown",
      "metadata": {
        "id": "vKZXlSANtciI",
        "colab_type": "text"
      },
      "source": [
        "We are still considering the model\n",
        "$$\n",
        "y = \\boldsymbol\\phi(\\boldsymbol x)^T\\boldsymbol\\theta + \\epsilon\\,,\\quad \\epsilon\\sim\\mathcal N(0,\\sigma^2)\\,.\n",
        "$$\n",
        "We assume that the noise variance $\\sigma^2$ is known."
      ]
    },
    {
      "cell_type": "markdown",
      "metadata": {
        "id": "QbD_G4txtciJ",
        "colab_type": "text"
      },
      "source": [
        "Instead of maximizing the likelihood, we can look at the maximum of the posterior distribution on the parameters $\\boldsymbol\\theta$, which is given as\n",
        "$$\n",
        "p(\\boldsymbol\\theta|\\mathcal X, \\mathcal Y) = \\frac{ \n",
        "  p(\\mathcal Y|\\mathcal X, \\boldsymbol\\theta)\n",
        "  p(\\boldsymbol\\theta)\n",
        "  }{    \n",
        "    p(\\mathcal Y|\\mathcal X)\n",
        "  }\n",
        "$$\n",
        "The purpose of the parameter prior $p(\\boldsymbol\\theta)$ is to discourage the parameters to attain extreme values, a sign that the model overfits. \n",
        "\n",
        "The prior allows us to specify a \"reasonable\" range of parameter values. \n",
        "\n",
        "Typically, we choose a Gaussian prior $\\mathcal N(\\boldsymbol 0, \\alpha^2\\boldsymbol I)$, centered at $\\boldsymbol 0$ with variance $\\alpha^2$ along each parameter dimension."
      ]
    },
    {
      "cell_type": "markdown",
      "metadata": {
        "id": "USQv7aJPtciJ",
        "colab_type": "text"
      },
      "source": [
        "The MAP estimate of the parameters is\n",
        "$$\n",
        "\\boldsymbol\\theta^{\\text{MAP}} = (\\boldsymbol\\Phi^T\\boldsymbol\\Phi + \\frac{\\sigma^2}{\\alpha^2}\\boldsymbol I)^{-1}\\boldsymbol\\Phi^T\\boldsymbol y\n",
        "$$\n",
        "where $\\sigma^2$ is the variance of the noise."
      ]
    },
    {
      "cell_type": "code",
      "metadata": {
        "id": "l42HfcwLtciK",
        "colab_type": "code",
        "colab": {}
      },
      "source": [
        "## TODO 12: EDIT THIS FUNCTION\n",
        "def map_estimate_poly(Phi, y, sigma, alpha):\n",
        "    # Phi: training inputs, Size of N x D\n",
        "    # y: training targets, Size of D x 1\n",
        "    # sigma: standard deviation of the noise \n",
        "    # alpha: standard deviation of the prior on the parameters\n",
        "    # returns: MAP estimate theta_map, Size of D x 1\n",
        "    \n",
        "    D = Phi.shape[1] \n",
        "    inverse = np.linalg.inv(np.transpose(Phi) @ Phi + np.identity(D)*(sigma**2/alpha**2))\n",
        "    theta_map = inverse @ np.transpose(Phi) @ y ## <-- EDIT THIS LINE    \n",
        "    \n",
        "    return theta_map"
      ],
      "execution_count": 0,
      "outputs": []
    },
    {
      "cell_type": "code",
      "metadata": {
        "id": "Up2KNvgltciM",
        "colab_type": "code",
        "colab": {}
      },
      "source": [
        "# define the function we wish to estimate later\n",
        "def g(x, sigma):\n",
        "    p = np.hstack([x**0, x**1, np.sin(x)])\n",
        "    w = np.array([-1.0, 0.1, 1.0]).reshape(-1,1)\n",
        "    return p @ w + sigma*np.random.normal(size=x.shape) "
      ],
      "execution_count": 0,
      "outputs": []
    },
    {
      "cell_type": "code",
      "metadata": {
        "id": "E0aoY38ptciO",
        "colab_type": "code",
        "colab": {
          "base_uri": "https://localhost:8080/",
          "height": 279
        },
        "outputId": "5e05dc9e-144d-48d8-e120-0a64a39d2cd6"
      },
      "source": [
        "# Generate some data\n",
        "sigma = 1.0 # noise standard deviation\n",
        "alpha = 1.0 # standard deviation of the parameter prior\n",
        "N = 20\n",
        "\n",
        "np.random.seed(42)\n",
        "\n",
        "X = (np.random.rand(N)*10.0 - 5.0).reshape(-1,1)\n",
        "y = g(X, sigma) # training targets\n",
        "\n",
        "plt.figure()\n",
        "plt.plot(X, y, '+')\n",
        "plt.xlabel(\"$x$\")\n",
        "plt.ylabel(\"$y$\");"
      ],
      "execution_count": 261,
      "outputs": [
        {
          "output_type": "display_data",
          "data": {
            "image/png": "[encoded data removed]",
            "text/plain": [
              "<Figure size 432x288 with 1 Axes>"
            ]
          },
          "metadata": {
            "tags": []
          }
        }
      ]
    },
    {
      "cell_type": "code",
      "metadata": {
        "id": "IBwOc2cptciQ",
        "colab_type": "code",
        "colab": {
          "base_uri": "https://localhost:8080/",
          "height": 265
        },
        "outputId": "ada2c854-8021-40f6-db2c-adaa0fd153e0"
      },
      "source": [
        "# get the MAP estimate\n",
        "K = 8 # polynomial degree   \n",
        "\n",
        "# feature matrix\n",
        "Phi = poly_features(X, K)\n",
        "\n",
        "theta_map = map_estimate_poly(Phi, y, sigma, alpha)\n",
        "\n",
        "# maximum likelihood estimate\n",
        "theta_ml = nonlinear_features_maximum_likelihood(Phi, y)\n",
        "\n",
        "Xtest = np.linspace(-5,5,100).reshape(-1,1)\n",
        "ytest = g(Xtest, sigma)\n",
        "\n",
        "Phi_test = poly_features(Xtest, K)\n",
        "y_pred_map = Phi_test @ theta_map\n",
        "y_pred_mle = Phi_test @ theta_ml\n",
        "\n",
        "plt.figure()\n",
        "plt.plot(X, y, '+')\n",
        "plt.plot(Xtest, y_pred_map)\n",
        "plt.plot(Xtest, g(Xtest, 0))\n",
        "plt.plot(Xtest, y_pred_mle)\n",
        "\n",
        "plt.legend([\"data\", \"map prediction\", \"ground truth function\", \"maximum likelihood\"]);"
      ],
      "execution_count": 262,
      "outputs": [
        {
          "output_type": "display_data",
          "data": {
            "image/png": "[encoded data removed]",
            "text/plain": [
              "<Figure size 432x288 with 1 Axes>"
            ]
          },
          "metadata": {
            "tags": []
          }
        }
      ]
    },
    {
      "cell_type": "code",
      "metadata": {
        "id": "mpHBIsrRtciT",
        "colab_type": "code",
        "colab": {
          "base_uri": "https://localhost:8080/",
          "height": 161
        },
        "outputId": "0a2b7ef9-3e5b-4a6b-b0e3-40500e00b31f"
      },
      "source": [
        "print(np.hstack([theta_ml, theta_map]))"
      ],
      "execution_count": 263,
      "outputs": [
        {
          "output_type": "stream",
          "text": [
            "[[-1.60200080e+00 -1.20964569e+00]\n",
            " [ 9.16915737e-01  6.95984998e-01]\n",
            " [ 6.31276232e-03 -1.39202799e-01]\n",
            " [-1.02389674e-01 -4.48836696e-02]\n",
            " [ 4.70502528e-03  1.85092368e-02]\n",
            " [-1.70141116e-03 -6.15613687e-03]\n",
            " [-1.73398659e-04 -5.36009477e-04]\n",
            " [ 2.04755281e-04  3.08683821e-04]]\n"
          ],
          "name": "stdout"
        }
      ]
    },
    {
      "cell_type": "markdown",
      "metadata": {
        "id": "TJjMmnO3tciV",
        "colab_type": "text"
      },
      "source": [
        "Now, let us compute the RMSE on test data for different polynomial degrees and see whether the MAP estimate addresses the overfitting issue we encountered with the maximum likelihood estimate."
      ]
    },
    {
      "cell_type": "code",
      "metadata": {
        "id": "L-A5rxQmtciW",
        "colab_type": "code",
        "colab": {
          "base_uri": "https://localhost:8080/",
          "height": 297
        },
        "outputId": "5f43ee50-5eef-4994-b852-3ba35a944d5c"
      },
      "source": [
        "## TODO 13: EDIT THIS CELL\n",
        "\n",
        "K_max = 12 # this is the maximum degree of polynomial we will consider\n",
        "assert(K_max < N) # this is the latest point when we'll run into numerical problems\n",
        "\n",
        "rmse_mle = np.zeros((K_max+1,))\n",
        "rmse_map = np.zeros((K_max+1,))\n",
        "\n",
        "for k in range(K_max+1):   \n",
        "    # feature matrix\n",
        "    Phi = poly_features(X, k)\n",
        "    \n",
        "    # maximum likelihood estimate\n",
        "    theta_ml = nonlinear_features_maximum_likelihood(Phi, y)\n",
        "    theta_map = map_estimate_poly(Phi, y, sigma, alpha)\n",
        "            \n",
        "    # feature matrix for test inputs\n",
        "    Phi_test = poly_features(Xtest, k)\n",
        "    \n",
        "    # prediction (test set)\n",
        "    ypred_test = Phi_test @ theta_ml \n",
        "    ypred_map = Phi_test @ theta_map\n",
        "    \n",
        "    rmse_mle[k] = RMSE(ytest, ypred_test) ## EDIT THIS LINE : Compute the maximum likelihood estimator, compute the test-set predicitons, compute the RMSE\n",
        "    rmse_map[k] = RMSE(ytest, ypred_map) ## EDIT THIS LINE : Compute the MAP estimator, compute the test-set predicitons, compute the RMSE\n",
        "\n",
        "plt.figure()\n",
        "plt.semilogy(rmse_mle) # this plots the RMSE on a logarithmic scale\n",
        "plt.semilogy(rmse_map) # this plots the RMSE on a logarithmic scale\n",
        "plt.xlabel(\"degree of polynomial\")\n",
        "plt.ylabel(\"RMSE\")\n",
        "plt.legend([\"Maximum likelihood\", \"MAP\"])"
      ],
      "execution_count": 264,
      "outputs": [
        {
          "output_type": "execute_result",
          "data": {
            "text/plain": [
              "<matplotlib.legend.Legend at 0x7f3b4c14b5c0>"
            ]
          },
          "metadata": {
            "tags": []
          },
          "execution_count": 264
        },
        {
          "output_type": "display_data",
          "data": {
            "image/png": "[encoded data removed]",
            "text/plain": [
              "<Figure size 432x288 with 1 Axes>"
            ]
          },
          "metadata": {
            "tags": []
          }
        }
      ]
    },
    {
      "cell_type": "markdown",
      "metadata": {
        "id": "cfPxemo6tciY",
        "colab_type": "text"
      },
      "source": [
        "**Question 8**\n",
        "\n",
        "Q8-1. What do you observe?\n",
        "\n",
        "Q8-2. What is the influence of the prior variance on the parameters ($\\alpha^2$)? Change the parameter and describe what happens."
      ]
    },
    {
      "cell_type": "markdown",
      "metadata": {
        "id": "PmIyie6QtNmQ",
        "colab_type": "text"
      },
      "source": [
        "**Answers 8**\n",
        "\n",
        "Q8-1. The RMSE of maximum likelihood and MAP has a smiliar trend.\n",
        "\n",
        "Q8-2. Increasing the prior variance squeezes the graphs of maximum likelihood and MAP together. Decreasing it separates them."
      ]
    },
    {
      "cell_type": "markdown",
      "metadata": {
        "id": "qnn64UHbtciZ",
        "colab_type": "text"
      },
      "source": [
        "## 3. Bayesian Linear Regression"
      ]
    },
    {
      "cell_type": "code",
      "metadata": {
        "id": "q14QKnS7tcia",
        "colab_type": "code",
        "colab": {}
      },
      "source": [
        "# Test inputs\n",
        "Ntest = 200\n",
        "Xtest = np.linspace(-5, 5, Ntest).reshape(-1,1) # test inputs\n",
        "\n",
        "prior_var = 0.25 # variance of the parameter prior (alpha^2). We assume this is known.\n",
        "noise_var = 1.0 # noise variance (sigma^2). We assume this is known.\n",
        "\n",
        "pol_deg = 5 # degree of the polynomial we consider at the moment"
      ],
      "execution_count": 0,
      "outputs": []
    },
    {
      "cell_type": "markdown",
      "metadata": {
        "id": "YM1YTiX7tcic",
        "colab_type": "text"
      },
      "source": [
        "Assume a parameter prior $p(\\boldsymbol\\theta) = \\mathcal N (\\boldsymbol 0, \\alpha^2\\boldsymbol I)$. For every test input $\\boldsymbol x_*$ we obtain the \n",
        "prior mean\n",
        "$$\n",
        "E[f(\\boldsymbol x_*)] = 0\n",
        "$$\n",
        "and the prior (marginal) variance (ignoring the noise contribution)\n",
        "$$\n",
        "V[f(\\boldsymbol x_*)] = \\alpha^2\\boldsymbol\\phi(\\boldsymbol x_*) \\boldsymbol\\phi(\\boldsymbol x_*)^\\top\n",
        "$$\n",
        "where $\\boldsymbol\\phi(\\cdot)$ is the feature map."
      ]
    },
    {
      "cell_type": "code",
      "metadata": {
        "id": "wUzOOaKmtcie",
        "colab_type": "code",
        "colab": {
          "base_uri": "https://localhost:8080/",
          "height": 349
        },
        "outputId": "f203ad32-aeeb-4cf4-d9d2-8e2b925be19d"
      },
      "source": [
        "## TODO 14: EDIT THIS CELL\n",
        "\n",
        "# compute the feature matrix for the test inputs\n",
        "Phi_test = poly_features(Xtest, pol_deg+1)  # N x (pol_deg+1) feature matrix <--- EDIT THIS LINE\n",
        "print(Phi_test.shape)\n",
        "# compute the (marginal) prior at the test input locations\n",
        "# prior mean\n",
        "prior_mean = np.zeros((Ntest,1))  # prior mean at test inputs (size: (Ntest,1)) <-- EDIT THIS LINE\n",
        "\n",
        "# prior variance\n",
        "full_covariance = prior_var * Phi_test @ np.transpose(Phi_test) # N x N covariance matrix of all function values <-- EDIT THIS LINE\n",
        "print(full_covariance.shape)\n",
        "prior_marginal_var = np.diagonal(full_covariance) # marginal of size (N, )\n",
        "print(prior_marginal_var.shape)\n",
        "\n",
        "# Let us visualize the prior over functions\n",
        "plt.figure()\n",
        "plt.plot(Xtest, prior_mean, color=\"k\")\n",
        "\n",
        "conf_bound1 = np.sqrt(prior_marginal_var).flatten()\n",
        "conf_bound2 = 2.0*np.sqrt(prior_marginal_var).flatten()\n",
        "conf_bound3 = 2.0*np.sqrt(prior_marginal_var + noise_var).flatten()\n",
        "plt.fill_between(Xtest.flatten(), prior_mean.flatten() + conf_bound1, \n",
        "             prior_mean.flatten() - conf_bound1, alpha = 0.1, color=\"k\")\n",
        "plt.fill_between(Xtest.flatten(), prior_mean.flatten() + conf_bound2, \n",
        "                 prior_mean.flatten() - conf_bound2, alpha = 0.1, color=\"k\")\n",
        "plt.fill_between(Xtest.flatten(), prior_mean.flatten() + conf_bound3, \n",
        "                 prior_mean.flatten() - conf_bound3, alpha = 0.1, color=\"k\")\n",
        "\n",
        "plt.xlabel('$x$')\n",
        "plt.ylabel('$y$')\n",
        "plt.title(\"Prior over functions\");"
      ],
      "execution_count": 266,
      "outputs": [
        {
          "output_type": "stream",
          "text": [
            "(200, 6)\n",
            "(200, 200)\n",
            "(200,)\n"
          ],
          "name": "stdout"
        },
        {
          "output_type": "display_data",
          "data": {
            "image/png": "[encoded data removed]",
            "text/plain": [
              "<Figure size 432x288 with 1 Axes>"
            ]
          },
          "metadata": {
            "tags": []
          }
        }
      ]
    },
    {
      "cell_type": "markdown",
      "metadata": {
        "id": "nghyGtAotcih",
        "colab_type": "text"
      },
      "source": [
        "Now, we will use this prior distribution and sample functions from it."
      ]
    },
    {
      "cell_type": "code",
      "metadata": {
        "id": "NXRMhi_mtcih",
        "colab_type": "code",
        "colab": {
          "base_uri": "https://localhost:8080/",
          "height": 317
        },
        "outputId": "1dc8aad1-6a79-4692-9c8a-1e920ef30bad"
      },
      "source": [
        "## TODO 15: EDIT THIS CELL\n",
        "\n",
        "# samples from the prior\n",
        "num_samples = 10\n",
        "\n",
        "# We first need to generate random weights theta_i, which we sample from the parameter prior\n",
        "random_weights = np.random.normal(size=(pol_deg+1,num_samples), scale=np.sqrt(prior_var))\n",
        "\n",
        "# Now, we compute the induced random functions, evaluated at the test input locations\n",
        "# Every function sample is given as f_i = Phi * theta_i, \n",
        "# where theta_i is a sample from the parameter prior\n",
        "print(Phi_test.shape, random_weights.shape)\n",
        "sample_function = Phi_test @ random_weights # <-- EDIT THIS LINE\n",
        "\n",
        "plt.figure()\n",
        "plt.plot(Xtest, sample_function, color=\"r\")\n",
        "plt.title(\"Plausible functions under the prior\")\n",
        "print(\"Every sampled function is a polynomial of degree \"+str(pol_deg));"
      ],
      "execution_count": 267,
      "outputs": [
        {
          "output_type": "stream",
          "text": [
            "(200, 6) (6, 10)\n",
            "Every sampled function is a polynomial of degree 5\n"
          ],
          "name": "stdout"
        },
        {
          "output_type": "display_data",
          "data": {
            "image/png": "[encoded data removed]",
            "text/plain": [
              "<Figure size 432x288 with 1 Axes>"
            ]
          },
          "metadata": {
            "tags": []
          }
        }
      ]
    },
    {
      "cell_type": "markdown",
      "metadata": {
        "id": "7jue8I1ptcij",
        "colab_type": "text"
      },
      "source": [
        "Now we are given some training inputs $\\boldsymbol x_1, \\dotsc, \\boldsymbol x_N$, which we collect in a matrix $\\boldsymbol X = [\\boldsymbol x_1, \\dotsc, \\boldsymbol x_N]^\\top\\in\\mathbb{R}^{N\\times D}$"
      ]
    },
    {
      "cell_type": "code",
      "metadata": {
        "id": "hlatA5KItcij",
        "colab_type": "code",
        "colab": {}
      },
      "source": [
        "N = 10\n",
        "X = np.random.uniform(high=5, low=-5, size=(N,1)) # training inputs, size Nx1\n",
        "y = g(X, np.sqrt(noise_var)) # training targets, size Nx1"
      ],
      "execution_count": 0,
      "outputs": []
    },
    {
      "cell_type": "markdown",
      "metadata": {
        "id": "Z6yzZoI9tcim",
        "colab_type": "text"
      },
      "source": [
        "Now, let us compute the posterior "
      ]
    },
    {
      "cell_type": "code",
      "metadata": {
        "id": "3MIqmSXDtcim",
        "colab_type": "code",
        "colab": {}
      },
      "source": [
        "## TODO 16: EDIT THIS FUNCTION\n",
        "def polyfit(X, y, K, prior_var, noise_var):\n",
        "    # X: training inputs, size N x D\n",
        "    # y: training targets, size N x 1\n",
        "    # K: degree of polynomial we consider\n",
        "    # prior_var: prior variance of the parameter distribution\n",
        "    # sigma: noise variance    \n",
        "    jitter = 1e-08 # increases numerical stability\n",
        "    N = X.shape[0]\n",
        "    \n",
        "    Phi = poly_features(X, K+1) # N x (K+1) feature matrix    \n",
        "    print(Phi.shape) \n",
        "    S0 = prior_var * np.identity(pol_deg+1)\n",
        "    # Compute maximum likelihood estimate\n",
        "    theta_ml = nonlinear_features_maximum_likelihood(Phi,y) # <-- EDIT THIS LINE         \n",
        "    \n",
        "    # MAP estimate\n",
        "    theta_map = map_estimate_poly(Phi, y, np.sqrt(noise_var), np.sqrt(prior_var)) # <-- EDIT THIS LINE     \n",
        "\n",
        "    # Parameter posterior\n",
        "    SN = np.linalg.inv(np.linalg.inv(S0) + (1/noise_var) * np.transpose(Phi) @ Phi)  # covariance matrix of the parameter posterior # <-- EDIT THIS LINE  \n",
        "    print(SN.shape)   \n",
        "    mN = SN @ ((1/noise_var) * np.transpose(Phi) @ y) # mean vector of the parameter posterior   # <-- EDIT THIS LINE  \n",
        "    print(mN.shape)   \n",
        "    \n",
        "    return (theta_ml, theta_map, mN, SN)"
      ],
      "execution_count": 0,
      "outputs": []
    },
    {
      "cell_type": "code",
      "metadata": {
        "id": "ihy99GGGtciq",
        "colab_type": "code",
        "colab": {
          "base_uri": "https://localhost:8080/",
          "height": 71
        },
        "outputId": "c618ed2f-befc-404b-e160-c1811d3a20ca"
      },
      "source": [
        "theta_ml, theta_map, theta_mean, theta_var = polyfit(X, y, pol_deg, prior_var, noise_var)"
      ],
      "execution_count": 274,
      "outputs": [
        {
          "output_type": "stream",
          "text": [
            "(10, 6)\n",
            "(6, 6)\n",
            "(6, 1)\n"
          ],
          "name": "stdout"
        }
      ]
    },
    {
      "cell_type": "markdown",
      "metadata": {
        "id": "WPLc1tBttcir",
        "colab_type": "text"
      },
      "source": [
        "Now, let's make predictions (ignoring the measurement noise).\n",
        " \n",
        "We obtain three predictors:\n",
        "\n",
        "\\begin{align}\n",
        "&\\text{Maximum likelihood: }E[f(\\boldsymbol X_{\\text{test}})] = \\boldsymbol \\phi(X_{\\text{test}})\\boldsymbol \\theta_{ml}\\\\\n",
        "&\\text{Maximum a posteriori: } E[f(\\boldsymbol X_{\\text{test}})] = \\boldsymbol \\phi(X_{\\text{test}})\\boldsymbol \\theta_{map}\\\\\n",
        "&\\text{Bayesian: } p(f(\\boldsymbol X_{\\text{test}})) = \\mathcal N(f(\\boldsymbol X_{\\text{test}}) \\,|\\, \\boldsymbol \\phi(X_{\\text{test}}) \\boldsymbol\\theta_{\\text{mean}},\\, \\boldsymbol\\phi(X_{\\text{test}}) \\boldsymbol\\theta_{\\text{var}}  \\boldsymbol\\phi(X_{\\text{test}})^\\top)\n",
        "\\end{align}\n",
        "\n",
        "We already computed all quantities. Write some code that implements all three predictors."
      ]
    },
    {
      "cell_type": "code",
      "metadata": {
        "id": "ZY2PXNMFtcis",
        "colab_type": "code",
        "colab": {
          "base_uri": "https://localhost:8080/",
          "height": 53
        },
        "outputId": "58875b8b-e0b1-4889-dbb1-bb87b3441af0"
      },
      "source": [
        "##  TODO 17: EDIT THIS CELL\n",
        "\n",
        "# predictions (ignoring the measurement/observations noise)\n",
        "K = 5\n",
        "Phi_test = poly_features(Xtest, K+1)\n",
        "print(Phi_test.shape)\n",
        "print(theta_ml.shape)\n",
        "# maximum likelihood predictions (just the mean)\n",
        "m_mle_test = Phi_test @ theta_ml # <-- EDIT THIS LINE\n",
        "\n",
        "# MAP predictions (just the mean)\n",
        "m_map_test = Phi_test @ theta_map # <-- EDIT THIS LINE\n",
        "\n",
        "# predictive distribution (Bayesian linear regression)\n",
        "# mean prediction\n",
        "mean_blr = Phi_test @ theta_mean # <-- EDIT THIS LINE\n",
        "\n",
        "# variance prediction\n",
        "cov_blr =  Phi_test @ theta_var @ np.transpose(Phi_test) # <-- EDIT THIS LINE"
      ],
      "execution_count": 276,
      "outputs": [
        {
          "output_type": "stream",
          "text": [
            "(200, 6)\n",
            "(6, 1)\n"
          ],
          "name": "stdout"
        }
      ]
    },
    {
      "cell_type": "code",
      "metadata": {
        "id": "J--GBar-tciu",
        "colab_type": "code",
        "colab": {
          "base_uri": "https://localhost:8080/",
          "height": 279
        },
        "outputId": "a8f4e768-3c3a-49e1-9941-76e861232327"
      },
      "source": [
        "# plot the posterior\n",
        "plt.figure()\n",
        "plt.plot(X, y, \"+\")\n",
        "plt.plot(Xtest, m_mle_test)\n",
        "plt.plot(Xtest, m_map_test)\n",
        "\n",
        "var_blr = np.diag(cov_blr)\n",
        "conf_bound1 = np.sqrt(var_blr).flatten()\n",
        "conf_bound2 = 2.0*np.sqrt(var_blr).flatten()\n",
        "conf_bound3 = 2.0*np.sqrt(var_blr + sigma).flatten()\n",
        "\n",
        "plt.plot(Xtest, mean_blr)\n",
        "plt.fill_between(Xtest.flatten(), mean_blr.flatten() + conf_bound1, \n",
        "                 mean_blr.flatten() - conf_bound1, alpha = 0.1, color=\"k\")\n",
        "plt.fill_between(Xtest.flatten(), mean_blr.flatten() + conf_bound2, \n",
        "                 mean_blr.flatten() - conf_bound2, alpha = 0.1, color=\"k\")\n",
        "plt.fill_between(Xtest.flatten(), mean_blr.flatten() + conf_bound3, \n",
        "                 mean_blr.flatten() - conf_bound3, alpha = 0.1, color=\"k\")\n",
        "plt.legend([\"Training data\", \"MLE\", \"MAP\", \"BLR_mean\", \"BLR_var\"])\n",
        "plt.xlabel('$x$');\n",
        "plt.ylabel('$y$');"
      ],
      "execution_count": 277,
      "outputs": [
        {
          "output_type": "display_data",
          "data": {
            "image/png": "[encoded data removed]",
            "text/plain": [
              "<Figure size 432x288 with 1 Axes>"
            ]
          },
          "metadata": {
            "tags": []
          }
        }
      ]
    },
    {
      "cell_type": "markdown",
      "metadata": {
        "id": "9R_Z4OVLtgK6",
        "colab_type": "text"
      },
      "source": [
        "## Finish!"
      ]
    }
  ]
}